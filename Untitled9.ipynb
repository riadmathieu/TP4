{
 "cells": [
  {
   "cell_type": "code",
   "execution_count": 1,
   "id": "2606decc-6ebb-4b8c-b3ad-3e57df067614",
   "metadata": {},
   "outputs": [
    {
     "ename": "SyntaxError",
     "evalue": "invalid character in identifier (700232062.py, line 1)",
     "output_type": "error",
     "traceback": [
      "\u001b[0;36m  Input \u001b[0;32mIn [1]\u001b[0;36m\u001b[0m\n\u001b[0;31m    Qu’est-ce qu’un bot ?\u001b[0m\n\u001b[0m         ^\u001b[0m\n\u001b[0;31mSyntaxError\u001b[0m\u001b[0;31m:\u001b[0m invalid character in identifier\n"
     ]
    }
   ],
   "source": [
    "Qu’est-ce qu’un bot ?\n",
    "\n",
    "Un bot est un utilisateur qui n’est pas humain. Il permet de faire des actions tel que supprimer des messages ou encore changer les rôles des membres d’un serveur. Cependant le principal avantage d’un bot par rapport à l’humain est qu’il est disponible tout le temps. \n",
    "On peut donc lui demander de faire des opérations que l’on doit réaliser constamment comme lire la bouse tous les jours ou encore faire de la modération. \n",
    "\n",
    "Qu'est ce que le logging. À quoi servent les logs?\n",
    "\n",
    "Le logging est la gestion des logs. Les logs sont les évènements (l’historique) d’un système.\n",
    "Par exemple pour un serveur les logs peuvent relater les connexions au serveur par les utilisateur par exemple.\n"
   ]
  },
  {
   "cell_type": "code",
   "execution_count": null,
   "id": "db137f58-f8b7-424f-aa75-9a79787e450c",
   "metadata": {},
   "outputs": [],
   "source": []
  }
 ],
 "metadata": {
  "kernelspec": {
   "display_name": "Python 3 (ipykernel)",
   "language": "python",
   "name": "python3"
  },
  "language_info": {
   "codemirror_mode": {
    "name": "ipython",
    "version": 3
   },
   "file_extension": ".py",
   "mimetype": "text/x-python",
   "name": "python",
   "nbconvert_exporter": "python",
   "pygments_lexer": "ipython3",
   "version": "3.8.2"
  }
 },
 "nbformat": 4,
 "nbformat_minor": 5
}
